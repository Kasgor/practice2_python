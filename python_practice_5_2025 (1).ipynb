{
  "cells": [
    {
      "cell_type": "markdown",
      "metadata": {
        "id": "5qV_sehzFCTp"
      },
      "source": [
        "# I. OOP"
      ]
    },
    {
      "cell_type": "markdown",
      "metadata": {
        "id": "tx_U_hOALyfg"
      },
      "source": [
        "1. (6б). Створіть клас Building, додайте три атрибути, один з яких має значення за замовчуванням та два методи на свій розсуд."
      ]
    },
    {
      "cell_type": "code",
      "execution_count": null,
      "metadata": {
        "id": "-Vf895KaL88N"
      },
      "outputs": [],
      "source": [
        "class Building:\n",
        "\n",
        "    def __init__(self, address, material, floors=1 ):\n",
        "        self.address = address\n",
        "        self.material = material\n",
        "        self.floors = floors\n",
        "\n",
        "    def count_floors(self):\n",
        "        return f\"Floor count{self.floors}\"\n",
        "    \n",
        "    def get_address(self):\n",
        "        return self.address\n"
      ]
    },
    {
      "cell_type": "markdown",
      "metadata": {
        "id": "X_UlOMB0L93w"
      },
      "source": [
        "2. (2б). Створіть два обʼєкти цього класу, де один з обʼєктів створюється із дефолтним значенням атрибуту. На одному обʼєкті отримайте значення його атрибуту, а на іншому викличте один з його методів."
      ]
    },
    {
      "cell_type": "code",
      "execution_count": 4,
      "metadata": {
        "id": "7gBu0ESOMCpG"
      },
      "outputs": [
        {
          "name": "stdout",
          "output_type": "stream",
          "text": [
            "1\n",
            "some adress2\n"
          ]
        }
      ],
      "source": [
        "building1 = Building(\"some adress1\", \"Some material1\")\n",
        "building2 = Building(\"some adress2\", \"Some material2\", 2)\n",
        "floors_building1 = building1.floors\n",
        "address_building2 = building2.get_address()\n",
        "print(floors_building1)\n",
        "print(address_building2)"
      ]
    },
    {
      "cell_type": "markdown",
      "metadata": {
        "id": "HoqSCZt1MHn5"
      },
      "source": [
        "3. (5б). Створіть клас, де атрибути мають різні рівні доступу. Спробуйте отримати їхні значення та опишіть результати."
      ]
    },
    {
      "cell_type": "code",
      "execution_count": null,
      "metadata": {
        "id": "r9b3vJxBMSPV"
      },
      "outputs": [
        {
          "name": "stdout",
          "output_type": "stream",
          "text": [
            "some adress1\n",
            "Some material1\n"
          ]
        },
        {
          "ename": "AttributeError",
          "evalue": "'Building22' object has no attribute '__floors'",
          "output_type": "error",
          "traceback": [
            "\u001b[1;31m---------------------------------------------------------------------------\u001b[0m",
            "\u001b[1;31mAttributeError\u001b[0m                            Traceback (most recent call last)",
            "Cell \u001b[1;32mIn[5], line 9\u001b[0m\n\u001b[0;32m      7\u001b[0m \u001b[38;5;28mprint\u001b[39m(building1\u001b[38;5;241m.\u001b[39maddress)\n\u001b[0;32m      8\u001b[0m \u001b[38;5;28mprint\u001b[39m(building1\u001b[38;5;241m.\u001b[39m_material)\n\u001b[1;32m----> 9\u001b[0m \u001b[38;5;28mprint\u001b[39m(\u001b[43mbuilding1\u001b[49m\u001b[38;5;241;43m.\u001b[39;49m\u001b[43m__floors\u001b[49m)\n",
            "\u001b[1;31mAttributeError\u001b[0m: 'Building22' object has no attribute '__floors'"
          ]
        }
      ],
      "source": [
        "class Building22:\n",
        "    \n",
        "    def __init__(self, address, material, floors=1 ):\n",
        "        self.address = address\n",
        "        self._material = material\n",
        "        self.__floors = floors\n",
        "\n",
        "building1 = Building22(\"some adress1\", \"Some material1\")\n",
        "print(building1.address)\n",
        "print(building1._material)\n",
        "print(building1.__floors)\n",
        "#got error on private attribute"
      ]
    },
    {
      "cell_type": "markdown",
      "metadata": {
        "id": "5op2m2vgMSkZ"
      },
      "source": [
        "4. (7б). Як ви розумієте термін self? Для чого використовується метод __init __?"
      ]
    },
    {
      "cell_type": "markdown",
      "metadata": {
        "id": "DyiPqNRvMasx"
      },
      "source": [
        "*місце для відповіді\n",
        "Self is a pointer to current instance of the class\n",
        "__init__ is used to do some actions as soon as an object of class is created. In cases before we used it to assign values to attributes"
      ]
    },
    {
      "cell_type": "markdown",
      "metadata": {
        "id": "-6X8EGfjMd2y"
      },
      "source": [
        "5. (9б). Створіть клас 3D-фігура без атрибутів, з методом get_volume для отримання об'єму фігури, що повертає 0 та __add __, який приймає self та other в якості аргументів, а повертає суму об'ємів 3d-фігур self та other."
      ]
    },
    {
      "cell_type": "code",
      "execution_count": null,
      "metadata": {
        "id": "4rvO_wYUMaEr"
      },
      "outputs": [],
      "source": [
        "class Object_3D:\n",
        "\n",
        "    def get_volume():\n",
        "        return 0\n",
        "    \n",
        "    def __add__(self, other):\n",
        "        if isinstance(other, Object_3D):\n",
        "            return self.get_volume() + other.get_volume()\n",
        "        print(\"Not 3D object error\")\n"
      ]
    },
    {
      "cell_type": "markdown",
      "metadata": {
        "id": "SFcKnnv5Mo_z"
      },
      "source": [
        "6. (11б). Створіть 2 дочірніх класи від 3d-фігура: Циліндр та Куб, які мають атрибути, необхідні для розрахунку об'єму. Визначте метод get_volume в кожному з них так, щоби вони розраховували об'єм у залежності від формули для кожного типу фігури. Створіть обʼєкт класу Циліндр та обʼєкт класу Куб. Виконайте операцію суми за допомогою оператора + між ними, аби знайти сумарний об'єм."
      ]
    },
    {
      "cell_type": "code",
      "execution_count": 8,
      "metadata": {
        "id": "H3GVNr69Muf3"
      },
      "outputs": [
        {
          "name": "stdout",
          "output_type": "stream",
          "text": [
            "151550.14480708438\n"
          ]
        }
      ],
      "source": [
        "import math\n",
        "class Cube(Object_3D):\n",
        "    \n",
        "    def __init__(self, side):\n",
        "        self.side = side\n",
        "\n",
        "    def get_volume(self):\n",
        "        return self.side**3\n",
        "    \n",
        "class Cylinder(Object_3D):\n",
        "    def __init__(self, radius, height):\n",
        "        self.radius = radius\n",
        "        self.height = height\n",
        "    \n",
        "    def get_volume(self):\n",
        "        return math.pi * self.radius**2 * self.height\n",
        "cylinder = Cylinder(65, 5)\n",
        "cube = Cube(44)\n",
        "volume_total = cylinder + cube\n",
        "print(volume_total)"
      ]
    },
    {
      "cell_type": "markdown",
      "metadata": {
        "id": "HCvR206YMvLK"
      },
      "source": [
        "7. (3б). Продемонструйте різницю між isinstance та issubclass."
      ]
    },
    {
      "cell_type": "code",
      "execution_count": 9,
      "metadata": {
        "id": "L_V1bBvDM0GN"
      },
      "outputs": [
        {
          "name": "stdout",
          "output_type": "stream",
          "text": [
            "True\n",
            "True\n",
            "True\n",
            "True\n",
            "True\n"
          ]
        }
      ],
      "source": [
        "print(isinstance(cylinder, Cylinder))\n",
        "print(isinstance(cylinder, Object_3D))\n",
        "print(issubclass(Cylinder, Cylinder))\n",
        "print(issubclass(Cylinder, Object_3D))\n",
        "print(issubclass(Cylinder, object))"
      ]
    },
    {
      "cell_type": "markdown",
      "metadata": {
        "id": "jjsaBZ-iM0Qq"
      },
      "source": [
        "8. (13б). Створіть клас EWallet з приватними атрибутами balance та id. Реалізуйте методи поповнення та зняття коштів, забезпечивши належну інкапсуляцію. Підказка: використовуйте декоратори property та setter."
      ]
    },
    {
      "cell_type": "code",
      "execution_count": 11,
      "metadata": {
        "id": "xCvZ7lh8M7YA"
      },
      "outputs": [
        {
          "name": "stdout",
          "output_type": "stream",
          "text": [
            "100.0\n",
            "150.0\n",
            "100.0\n",
            "error\n",
            "100.0\n"
          ]
        }
      ],
      "source": [
        "class EWallet:\n",
        "    def __init__(self, id: str, balance: float = 0.0):\n",
        "        self.__id = id\n",
        "        self.__balance = balance\n",
        "\n",
        "    @property\n",
        "    def balance(self):\n",
        "        return self.__balance\n",
        "    \n",
        "    @balance.setter\n",
        "    def balance(self, amount: float):\n",
        "        if amount >= 0:\n",
        "            self.__balance = amount\n",
        "        else:\n",
        "            print(\"error\")\n",
        "\n",
        "    @property\n",
        "    def wallet_id(self):\n",
        "        return self.__id\n",
        "    \n",
        "    def deposit(self, amount: float):\n",
        "        if amount > 0:\n",
        "            self.balance += amount\n",
        "        else:\n",
        "            print(\"error\")\n",
        "\n",
        "    def withdraw(self, amount: float):\n",
        "        if amount > 0:\n",
        "            if self.balance >= amount:\n",
        "                self.balance -= amount\n",
        "            else:\n",
        "                print(\"error\")\n",
        "        else:\n",
        "            print(\"error\")\n",
        "    \n",
        "wallet = EWallet(\"W1\", 100.0)\n",
        "print(wallet.balance)\n",
        "wallet.deposit(50)\n",
        "print(wallet.balance)\n",
        "wallet.withdraw(50)\n",
        "print(wallet.balance)\n",
        "wallet.withdraw(200)\n",
        "print(wallet.balance)"
      ]
    },
    {
      "cell_type": "markdown",
      "metadata": {
        "id": "tIzL2SJTM8ft"
      },
      "source": [
        "9. (11б). Створіть клас ShoppingCart, який містить список об'єктів типу Item. Реалізуйте методи для додавання айтемів, їх видалення та відображення списку айтемів."
      ]
    },
    {
      "cell_type": "code",
      "execution_count": 14,
      "metadata": {
        "id": "HWxfJKLtNAUZ"
      },
      "outputs": [
        {
          "name": "stdout",
          "output_type": "stream",
          "text": [
            "i: price : 1.\n",
            "j: price : 2.\n",
            "k: price : 3.\n",
            "j: price : 2.\n",
            "k: price : 3.\n"
          ]
        }
      ],
      "source": [
        "class Item:\n",
        "    def __init__(self, name: str, price: float):\n",
        "        self.name = name\n",
        "        self.price = price\n",
        "\n",
        "    def __str__(self):\n",
        "        return f\"{self.name}: price : {self.price}.\"\n",
        "\n",
        "\n",
        "class ShoppingCart:\n",
        "    def __init__(self):\n",
        "        self.items = []\n",
        "\n",
        "    def add_item(self, item: Item):\n",
        "        self.items.append(item)\n",
        "\n",
        "    def remove_item(self, item_name: str):\n",
        "        self.items = [i for i in self.items if i.name != item_name]\n",
        "\n",
        "    def display_items(self):\n",
        "        if not self.items:\n",
        "            print(\"The cart is empty.\")\n",
        "        else:\n",
        "            for item in self.items:\n",
        "                print(item)\n",
        "\n",
        "cart = ShoppingCart()\n",
        "cart.add_item(Item(\"i\", 1))\n",
        "cart.add_item(Item(\"j\", 2))\n",
        "cart.add_item(Item(\"k\", 3))\n",
        "cart.display_items()\n",
        "\n",
        "cart.remove_item(\"i\")\n",
        "\n",
        "cart.display_items()"
      ]
    },
    {
      "cell_type": "markdown",
      "metadata": {
        "id": "lmV8pAwwNIqu"
      },
      "source": [
        "10. (13б). Створіть клас Vehicle з атрибутами brand (manufacturer) та production_age. Створіть ще один клас Engine з такими атрибутами, як type (ex. petrol) та size (volume, litres). Створіть клас Car, який успадковує обидва класи Vehicle та Engine. Продемонструйте використання множинної спадковості, створивши обʼєкт класу Car та отримавши mro для цього класу."
      ]
    },
    {
      "cell_type": "code",
      "execution_count": 17,
      "metadata": {
        "id": "R49grKlWNPeN"
      },
      "outputs": [
        {
          "name": "stdout",
          "output_type": "stream",
          "text": [
            "Brand: Brand1, age: 5, engine: engine_type1, size: 2.5L\n",
            "Brand: Brand1, age: 7, engine: engine_type2, size: 2.5L\n"
          ]
        }
      ],
      "source": [
        "class Vehicle:\n",
        "    def __init__(self, brand: str, production_age: int):\n",
        "        self.brand = brand\n",
        "        self.production_age = production_age\n",
        "\n",
        "\n",
        "class Engine:\n",
        "    def __init__(self, engine_type: str, size: float):\n",
        "        self.engine_type = engine_type\n",
        "        self.size = size\n",
        "\n",
        "\n",
        "class Car(Vehicle, Engine):\n",
        "    def __init__(self, brand=None, production_age=None, engine_type=None, size=None, vehicle=None, engine=None):\n",
        "        if vehicle and engine:\n",
        "            Vehicle.__init__(self, vehicle.brand, vehicle.production_age)\n",
        "            Engine.__init__(self, engine.engine_type, engine.size)\n",
        "        else:\n",
        "            Vehicle.__init__(self, brand, production_age)\n",
        "            Engine.__init__(self, engine_type, size)\n",
        "    def __str__(self):\n",
        "        return f\"Brand: {self.brand}, age: {self.production_age}, engine: {self.engine_type}, size: {self.size}L\"\n",
        "    \n",
        "vehicle1 = Vehicle(\"Brand1\", 5)\n",
        "engine1 = Engine(\"engine_type1\", 2.5)\n",
        "car1 = Car(vehicle=vehicle1, engine=engine1)\n",
        "car2 = Car(\"Brand1\", 7, \"engine_type2\", 2.5)\n",
        "\n",
        "print(car1)\n",
        "print(car2)"
      ]
    },
    {
      "cell_type": "markdown",
      "metadata": {
        "id": "dIJyUiNBFG8G"
      },
      "source": [
        "# II. Iterator"
      ]
    },
    {
      "cell_type": "markdown",
      "metadata": {
        "id": "13vsm0NyKIzL"
      },
      "source": [
        "11. (4б). Визначте рядок(str) з 4ма різними за значенням символами. Створіть ітератор на основі цього рядка. Викличте 5 разів функцію next на ітераторі, 4ри перших з них огорніть у ф-цію print()."
      ]
    },
    {
      "cell_type": "code",
      "execution_count": null,
      "metadata": {
        "id": "81ntabAkKuz-"
      },
      "outputs": [
        {
          "name": "stdout",
          "output_type": "stream",
          "text": [
            "h\n",
            "g\n",
            "d\n",
            "s\n"
          ]
        },
        {
          "ename": "StopIteration",
          "evalue": "",
          "output_type": "error",
          "traceback": [
            "\u001b[1;31m---------------------------------------------------------------------------\u001b[0m",
            "\u001b[1;31mStopIteration\u001b[0m                             Traceback (most recent call last)",
            "Cell \u001b[1;32mIn[20], line 8\u001b[0m\n\u001b[0;32m      6\u001b[0m \u001b[38;5;28mprint\u001b[39m(\u001b[38;5;28mnext\u001b[39m(myi))\n\u001b[0;32m      7\u001b[0m \u001b[38;5;28mprint\u001b[39m(\u001b[38;5;28mnext\u001b[39m(myi))\n\u001b[1;32m----> 8\u001b[0m \u001b[38;5;28;43mnext\u001b[39;49m\u001b[43m(\u001b[49m\u001b[43mmyi\u001b[49m\u001b[43m)\u001b[49m\n",
            "\u001b[1;31mStopIteration\u001b[0m: "
          ]
        }
      ],
      "source": [
        "strr = \"hgds\"\n",
        "myi = iter(strr)\n",
        "\n",
        "print(next(myi))\n",
        "print(next(myi))\n",
        "print(next(myi))\n",
        "print(next(myi))\n",
        "\n",
        "next(myi)"
      ]
    },
    {
      "cell_type": "markdown",
      "metadata": {
        "id": "aekWHGXOLRsO"
      },
      "source": [
        "А що якщо викликати цю ж функцію на рядку?"
      ]
    },
    {
      "cell_type": "code",
      "execution_count": 25,
      "metadata": {
        "id": "mxATGsErLV1i"
      },
      "outputs": [
        {
          "ename": "TypeError",
          "evalue": "'str' object is not an iterator",
          "output_type": "error",
          "traceback": [
            "\u001b[1;31m---------------------------------------------------------------------------\u001b[0m",
            "\u001b[1;31mTypeError\u001b[0m                                 Traceback (most recent call last)",
            "Cell \u001b[1;32mIn[25], line 1\u001b[0m\n\u001b[1;32m----> 1\u001b[0m \u001b[38;5;28mprint\u001b[39m(\u001b[38;5;28;43mnext\u001b[39;49m\u001b[43m(\u001b[49m\u001b[43mstrr\u001b[49m\u001b[43m)\u001b[49m)\n\u001b[0;32m      2\u001b[0m \u001b[38;5;28mprint\u001b[39m(\u001b[38;5;28mnext\u001b[39m(\u001b[38;5;124m\"\u001b[39m\u001b[38;5;124mstrr\u001b[39m\u001b[38;5;124m\"\u001b[39m))\n",
            "\u001b[1;31mTypeError\u001b[0m: 'str' object is not an iterator"
          ]
        }
      ],
      "source": [
        "print(next(strr))\n",
        "print(next(\"strr\"))"
      ]
    },
    {
      "cell_type": "markdown",
      "metadata": {
        "id": "XwtMEopwJ4pH"
      },
      "source": [
        " 12. (5б). Опишіть своїми словами в одному реченні, як ви розумієте різницю між ітерабельними обʼєктами та ітераторами (можна на прикладі)."
      ]
    },
    {
      "cell_type": "markdown",
      "metadata": {
        "id": "-sHrODc3KFn8"
      },
      "source": [
        "*місце для відповіді\n",
        "Iterators is an object that can be go through to get some result using \n",
        "Iterables in other way are objects than are returned by iterator in other words result"
      ]
    },
    {
      "cell_type": "markdown",
      "metadata": {
        "id": "E9qJWmNbK8Gl"
      },
      "source": [
        "13. (11б). Створіть клас, що має визначений Iterator Protocol та при кожному виклику next повертає назву дня тижня, поки вони не вичерпаються. Зверніть увагу, що порядок має значення."
      ]
    },
    {
      "cell_type": "code",
      "execution_count": 26,
      "metadata": {
        "id": "cqx-g_RsLo6I"
      },
      "outputs": [
        {
          "name": "stdout",
          "output_type": "stream",
          "text": [
            "1\n",
            "2\n",
            "3\n",
            "4\n",
            "5\n",
            "6\n",
            "7\n"
          ]
        }
      ],
      "source": [
        "class Numbers:\n",
        "    def __init__(self):\n",
        "        self.nums = [1, 2, 3, 4, 5, 6, 7]\n",
        "        self.index = 0\n",
        "\n",
        "    def __iter__(self):\n",
        "        return self\n",
        "\n",
        "    def __next__(self):\n",
        "        if self.index < len(self.nums):\n",
        "            num = self.nums[self.index]\n",
        "            self.index += 1\n",
        "            return num\n",
        "        else:\n",
        "            raise StopIteration\n",
        "        \n",
        "class1 = Numbers()\n",
        "\n",
        "for i in class1:\n",
        "    print(i)\n"
      ]
    },
    {
      "cell_type": "markdown",
      "metadata": {
        "id": "Z3E3S_s1Fv7-"
      },
      "source": [
        "# Вітаю! Ви велика(ий) молодець, що впоралась(вся). Похваліть себе та побалуйте чимось приємним. Я Вами пишаюся."
      ]
    }
  ],
  "metadata": {
    "colab": {
      "provenance": []
    },
    "kernelspec": {
      "display_name": "Python 3",
      "name": "python3"
    },
    "language_info": {
      "codemirror_mode": {
        "name": "ipython",
        "version": 3
      },
      "file_extension": ".py",
      "mimetype": "text/x-python",
      "name": "python",
      "nbconvert_exporter": "python",
      "pygments_lexer": "ipython3",
      "version": "3.13.2"
    }
  },
  "nbformat": 4,
  "nbformat_minor": 0
}
